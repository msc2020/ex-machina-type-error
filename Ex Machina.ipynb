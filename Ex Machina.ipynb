{
 "cells": [
  {
   "cell_type": "markdown",
   "id": "5f1b10de",
   "metadata": {},
   "source": [
    "<div style='text-align: right'><i>2022</i></div>"
   ]
  },
  {
   "cell_type": "markdown",
   "id": "5d9b377f",
   "metadata": {},
   "source": [
    "# <i>Ex Machina</i>: 'float' object cannot be interpreted as an integer\n",
    "\n",
    "______\n",
    "\n",
    "This notebook explore the `TypeError: 'float' object cannot be interpreted as an integer` present in the film <i>Ex Machina</i>, a 2014 science fiction film. More about it in https://en.wikipedia.org/wiki/Ex_Machina_(film) or https://www.imdb.com/title/tt0470752.\n",
    "\n",
    "<br/>\n",
    "\n",
    "<center><img src='images/logo.png' alt='Movie title.' style='width:700px;height:400px;'></center>\n",
    "\n",
    "<br/>\n",
    "\n",
    "**Movie glance:**\n",
    "\n",
    "\"Caleb Smith, a programmer at the search engine company Blue Book, wins an office contest for a one-week visit to the luxurious, isolated home of the CEO, Nathan Bateman. Nathan lives there with a servant named Kyoko, who, according to Nathan, does not understand English. Nathan reveals that he has built a humanoid robot named Ava with artificial intelligence. Ava has already passed a simple Turing test and Nathan wants Caleb to judge whether Ava is genuinely capable of thought and consciousness, and whether he can relate to Ava despite knowing she is artificial.\", [Wikipedia: Ex_Machina_(film)](https://en.wikipedia.org/wiki/Ex_Machina_(film)).\n",
    "\n",
    "<br/>\n",
    "\n",
    "<center><img src='images/2.ava.png' alt='Ava.' style='width:600px;height:350px;'></center>\n",
    "\n",
    "\n",
    "\n",
    "\n"
   ]
  },
  {
   "cell_type": "markdown",
   "id": "6bd6784d",
   "metadata": {},
   "source": [
    "### Impressions\n",
    "\n",
    "To avoid spoilers, I won't say much about the movie. I can say that it is a very interesting film, current and with a beautiful setting. Robots are already part of our reality and many of them, although many of them are not like Ava.\n",
    "\n",
    "Around 1h09min27s into the movie there's a scene where they show a snippet of computer code used to do super complex AI stuff. Below we have a screen print of this computer where you can see a code (I believe in Python):\n",
    "\n",
    "<br/>\n",
    "\n",
    "<center><img src='images/3.code_ex_machina[1h09m27s].png' alt='Code.' style='width:700px;height:450px;'></center>"
   ]
  },
  {
   "cell_type": "markdown",
   "id": "ab48e3ff",
   "metadata": {},
   "source": [
    "### The he beauty of primes\n",
    "\n",
    "This Blue Book code, used by Nathan, probably involves a lot of encryption. Note the references in them to the well-known prime numbers.\n",
    "\n",
    "Although prime numbers can be traced back to cryptography and this to modern computers, these enigmatic types of numbers have been investigated since before Christ.\n",
    "\n",
    "In fact, Eratosthenes of Cyrene (c. 276 BC – c. 195/194 BC) a Greek polymath ([Wikipedia: Eratosthenes](https://en.wikipedia.org/wiki/Eratosthenes)): a mathematician, geographer, poet, astronomer, and music theorist, one of the chief librarian at the Library of Alexandria, creator of an algorithm which solves the following problem:\n",
    "\n",
    "    Given a number n, print all primes smaller than or equal to n.\n",
    "\n",
    "**Question**: Do you know solve this problem? Maybe with a googled its possible ... ?"
   ]
  },
  {
   "cell_type": "markdown",
   "id": "589eb4df",
   "metadata": {},
   "source": [
    "<br/>\n",
    "\n",
    "<center><img src='images/1.caleb.png' alt='Caleb.' style='width:680px;height:350px;'></center>\n",
    "\n",
    "<br/>\n"
   ]
  },
  {
   "cell_type": "markdown",
   "id": "00e87d51",
   "metadata": {},
   "source": [
    "### Sieve of Eratosthenes\n",
    "\n",
    "The algorithm created by Eratosthenes to solve this problem is as follows ([Wikipedia: Sieve_of_Eratosthenes](https://en.wikipedia.org/wiki/Sieve_of_Eratosthenes)):\n",
    "\n",
    "    To find all the prime numbers less than or equal to a given integer n by Eratosthenes' method:\n",
    "\n",
    "    Step 1. Create a list of consecutive integers from 2 through n: (2, 3, 4, ..., n).\n",
    "    Step 2. Initially, let p equal 2, the smallest prime number.\n",
    "    Step 3. Enumerate the multiples of p by counting in increments of p from 2p to n, and mark them in the list (these will be 2p, 3p, 4p, ...; the p itself should not be marked).\n",
    "    Step 4. Find the smallest number in the list greater than p that is not marked. If there was no such number, stop. Otherwise, let p now equal this new number (which is the next prime), and repeat from step 3.\n",
    "    Step 5. When the algorithm terminates, the numbers remaining not marked in the list are all the primes below n.\n",
    "\n",
    "\n",
    "\n",
    "\n"
   ]
  },
  {
   "cell_type": "markdown",
   "id": "c8e0a3f1",
   "metadata": {},
   "source": [
    "### Watching details"
   ]
  },
  {
   "cell_type": "markdown",
   "id": "df12f265",
   "metadata": {},
   "source": [
    "When watching this film, on a sleepless night, I notice that this code has a problem:\n",
    "\n",
    "<br/>\n",
    "\n",
    "<center><img src='images/3.code_ex_machina[1h09m27s].png' alt='Code.' style='width:800px;height:400px;'></center>\n",
    "    \n",
    "<br/>"
   ]
  },
  {
   "cell_type": "markdown",
   "id": "ecf50b28",
   "metadata": {},
   "source": [
    "If we zoom in (Crtl++) on the code shown above, we can see ... ... ... ... ... ... ... ... ... ... ... ... ... ... ... ... ... ... ... ... ... this:\n",
    "\n",
    "<br/>\n",
    "\n",
    "<center><img src='images/3b.zoom_code_ex_machina[1h09m27s].png' alt='Code.' style='width:700px;height:350px;'></center>\n",
    "\n",
    "<br/>\n",
    "... ... ... ... ... ... or something like this, because this get blurred print it's a little blurry. The fact is that this code <span style='color:red;'>does not</span> run in Python, as I checked at that moment, although the error was quite clear. This was done in <a href='https://www.online-python.com'>Online Python</a>. And now, again, here."
   ]
  },
  {
   "cell_type": "markdown",
   "id": "23218aae",
   "metadata": {},
   "source": [
    "<br/>\n",
    "\n",
    "<center><img src='images/2b.ava.png' alt='Ava.' style='width:680px;height:350px;'></center>\n",
    "\n",
    "<br/>"
   ]
  },
  {
   "cell_type": "markdown",
   "id": "27acd2e2",
   "metadata": {},
   "source": [
    "### <i>Ex Machina</i> code"
   ]
  },
  {
   "cell_type": "code",
   "execution_count": 1,
   "id": "c61e2ad4",
   "metadata": {},
   "outputs": [
    {
     "ename": "TypeError",
     "evalue": "'float' object cannot be interpreted as an integer",
     "output_type": "error",
     "traceback": [
      "\u001b[0;31m---------------------------------------------------------------------------\u001b[0m",
      "\u001b[0;31mTypeError\u001b[0m                                 Traceback (most recent call last)",
      "Input \u001b[0;32mIn [1]\u001b[0m, in \u001b[0;36m<cell line: 20>\u001b[0;34m()\u001b[0m\n\u001b[1;32m     16\u001b[0m     \u001b[38;5;28;01mreturn\u001b[39;00m x\n\u001b[1;32m     19\u001b[0m n \u001b[38;5;241m=\u001b[39m \u001b[38;5;241m10\u001b[39m\n\u001b[0;32m---> 20\u001b[0m \u001b[38;5;28mprint\u001b[39m(\u001b[43msieve\u001b[49m\u001b[43m(\u001b[49m\u001b[43mn\u001b[49m\u001b[43m)\u001b[49m)\n",
      "Input \u001b[0;32mIn [1]\u001b[0m, in \u001b[0;36msieve\u001b[0;34m(n)\u001b[0m\n\u001b[1;32m      8\u001b[0m x \u001b[38;5;241m=\u001b[39m [\u001b[38;5;241m1\u001b[39m]\u001b[38;5;241m*\u001b[39mn\n\u001b[1;32m      9\u001b[0m x[\u001b[38;5;241m1\u001b[39m] \u001b[38;5;241m=\u001b[39m \u001b[38;5;241m0\u001b[39m\n\u001b[0;32m---> 11\u001b[0m \u001b[38;5;28;01mfor\u001b[39;00m i \u001b[38;5;129;01min\u001b[39;00m \u001b[38;5;28;43mrange\u001b[39;49m\u001b[43m(\u001b[49m\u001b[38;5;241;43m2\u001b[39;49m\u001b[43m,\u001b[49m\u001b[43m \u001b[49m\u001b[43mn\u001b[49m\u001b[38;5;241;43m/\u001b[39;49m\u001b[38;5;241;43m2\u001b[39;49m\u001b[43m)\u001b[49m:    \n\u001b[1;32m     12\u001b[0m     j \u001b[38;5;241m=\u001b[39m \u001b[38;5;241m2\u001b[39m\u001b[38;5;241m*\u001b[39mi\n\u001b[1;32m     13\u001b[0m     \u001b[38;5;28;01mwhile\u001b[39;00m j \u001b[38;5;241m<\u001b[39m n:\n",
      "\u001b[0;31mTypeError\u001b[0m: 'float' object cannot be interpreted as an integer"
     ]
    }
   ],
   "source": [
    "# BlueBook code decryption\n",
    "\n",
    "import sys\n",
    "\n",
    "def sieve(n):\n",
    "# Compute primes using sieve of Eratosthenes\n",
    "    \n",
    "    x = [1]*n\n",
    "    x[1] = 0\n",
    "\n",
    "    for i in range(2, n/2):    \n",
    "        j = 2*i\n",
    "        while j < n:\n",
    "            x[j] = 0 \n",
    "            j = j+1\n",
    "    return x\n",
    "\n",
    "\n",
    "n = 10\n",
    "print(sieve(n))"
   ]
  },
  {
   "cell_type": "markdown",
   "id": "d967331a",
   "metadata": {},
   "source": [
    "### TypeError"
   ]
  },
  {
   "cell_type": "markdown",
   "id": "e98ee872",
   "metadata": {},
   "source": [
    "Among the numerous errors that can occur is this:\n",
    "\n",
    "    TypeError: 'float' object cannot be interpreted as an integer\n",
    "\n",
    "occured because the function or operation is incorrect. I fact, [the arguments to the range constructor must be integers](https://docs.python.org/3/library/stdtypes.html#range).\n"
   ]
  },
  {
   "cell_type": "markdown",
   "id": "e21c0bae",
   "metadata": {},
   "source": [
    "<br/>\n",
    "\n",
    "<center><img src='images/4.effects.png' alt='Effects.' style='width:600px;height:450px;'></center>\n",
    "\n",
    "<br/>"
   ]
  },
  {
   "cell_type": "markdown",
   "id": "b2556e0a",
   "metadata": {},
   "source": [
    "### <i>Ex Machina</i> code fixed"
   ]
  },
  {
   "cell_type": "code",
   "execution_count": 2,
   "id": "18c9bb59",
   "metadata": {},
   "outputs": [
    {
     "name": "stdout",
     "output_type": "stream",
     "text": [
      "[1, 0, 1, 1, 0, 0, 0, 0, 0, 0]\n"
     ]
    }
   ],
   "source": [
    "# BlueBook code decryption\n",
    "\n",
    "import sys\n",
    "\n",
    "def sieve(n):\n",
    "# Compute primes using sieve of Eratosthenes\n",
    "    \n",
    "    x = [1]*n\n",
    "    x[1] = 0\n",
    "\n",
    "    for i in range(2, n//2):\n",
    "        j = 2*i\n",
    "        while j < n:\n",
    "            x[j] = 0 \n",
    "            j = j+1\n",
    "    return x\n",
    "\n",
    "\n",
    "n = 10\n",
    "print(sieve(n))"
   ]
  },
  {
   "cell_type": "markdown",
   "id": "0bf98eca",
   "metadata": {},
   "source": [
    "Since $n//2$ returns an integer, the `TypeError` no longer occurs. Now it remains for us to know how to use the Sieve of Eratosthenes with peace of mind."
   ]
  },
  {
   "cell_type": "code",
   "execution_count": 3,
   "id": "91c97df5",
   "metadata": {},
   "outputs": [
    {
     "data": {
      "text/plain": [
       "3"
      ]
     },
     "execution_count": 3,
     "metadata": {},
     "output_type": "execute_result"
    }
   ],
   "source": [
    "# test\n",
    "7//2"
   ]
  },
  {
   "cell_type": "markdown",
   "id": "0e0499b8",
   "metadata": {},
   "source": [
    "<br/>\n",
    "\n",
    "<center><img src='images/6.sound.png' alt='Effects.' style='width:500px;height:350px;'></center>\n",
    "\n",
    "<br/>"
   ]
  },
  {
   "cell_type": "markdown",
   "id": "d79f5907",
   "metadata": {},
   "source": [
    "### Is either begin or end?\n",
    "\n",
    "For those who have seen the film, perhaps there is a reflection/curiosity of this small mistake, which was intentional or not? Perhaps the director [Alex Garland](https://en.wikipedia.org/wiki/Alex_Garland) or someone who went behind the scenes should know the answer os this `TypeError`.\n",
    "\n"
   ]
  }
 ],
 "metadata": {
  "kernelspec": {
   "display_name": "Python 3 (ipykernel)",
   "language": "python",
   "name": "python3"
  },
  "language_info": {
   "codemirror_mode": {
    "name": "ipython",
    "version": 3
   },
   "file_extension": ".py",
   "mimetype": "text/x-python",
   "name": "python",
   "nbconvert_exporter": "python",
   "pygments_lexer": "ipython3",
   "version": "3.9.13"
  }
 },
 "nbformat": 4,
 "nbformat_minor": 5
}
